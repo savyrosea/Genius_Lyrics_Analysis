{
 "cells": [
  {
   "cell_type": "code",
   "execution_count": 17,
   "metadata": {},
   "outputs": [],
   "source": [
    "import pandas as pd\n",
    "import matplotlib.pyplot as plt\n",
    "import seaborn as sns\n",
    "import numpy as np\n",
    "import re\n",
    "import warnings\n",
    "warnings.filterwarnings('ignore')\n",
    "pd.set_option('display.max_rows', 500)\n",
    "pd.set_option('display.max_columns', 500)"
   ]
  },
  {
   "cell_type": "code",
   "execution_count": 18,
   "metadata": {},
   "outputs": [],
   "source": [
    "artists = pd.read_csv('../data/artist.csv')\n",
    "songs = pd.read_csv('../data/songs.csv')\n",
    "\n",
    "artists = artists.iloc[1: , :]\n",
    "songs = songs.iloc[1: , :]"
   ]
  },
  {
   "cell_type": "code",
   "execution_count": 19,
   "metadata": {},
   "outputs": [
    {
     "data": {
      "text/plain": [
       "(135, 4)"
      ]
     },
     "execution_count": 19,
     "metadata": {},
     "output_type": "execute_result"
    }
   ],
   "source": [
    "artists.shape"
   ]
  },
  {
   "cell_type": "code",
   "execution_count": 20,
   "metadata": {},
   "outputs": [
    {
     "data": {
      "text/plain": [
       "(2010, 7)"
      ]
     },
     "execution_count": 20,
     "metadata": {},
     "output_type": "execute_result"
    }
   ],
   "source": [
    "songs.shape"
   ]
  },
  {
   "cell_type": "markdown",
   "metadata": {},
   "source": [
    "# Artists"
   ]
  },
  {
   "cell_type": "code",
   "execution_count": 21,
   "metadata": {},
   "outputs": [
    {
     "data": {
      "text/html": [
       "<div>\n",
       "<style scoped>\n",
       "    .dataframe tbody tr th:only-of-type {\n",
       "        vertical-align: middle;\n",
       "    }\n",
       "\n",
       "    .dataframe tbody tr th {\n",
       "        vertical-align: top;\n",
       "    }\n",
       "\n",
       "    .dataframe thead th {\n",
       "        text-align: right;\n",
       "    }\n",
       "</style>\n",
       "<table border=\"1\" class=\"dataframe\">\n",
       "  <thead>\n",
       "    <tr style=\"text-align: right;\">\n",
       "      <th></th>\n",
       "      <th>artist</th>\n",
       "      <th>description</th>\n",
       "      <th>images_url</th>\n",
       "      <th>followers_count</th>\n",
       "    </tr>\n",
       "  </thead>\n",
       "  <tbody>\n",
       "    <tr>\n",
       "      <th>1</th>\n",
       "      <td>Post Malone</td>\n",
       "      <td>Austin Richard Post (born July 4, 1995), bette...</td>\n",
       "      <td>https://images.genius.com/1010194fa644be099aa2...</td>\n",
       "      <td>4616.0</td>\n",
       "    </tr>\n",
       "    <tr>\n",
       "      <th>2</th>\n",
       "      <td>The Weeknd</td>\n",
       "      <td>Abel Makkonen Tesfaye (born February 16, 1990 ...</td>\n",
       "      <td>https://images.genius.com/f0813e600d43b8b43c94...</td>\n",
       "      <td>8358.0</td>\n",
       "    </tr>\n",
       "    <tr>\n",
       "      <th>3</th>\n",
       "      <td>Roddy Ricch</td>\n",
       "      <td>Rodrick Wayne Moore, Jr. (b. October 22, 1998)...</td>\n",
       "      <td>https://images.genius.com/78cf8142bcc24004ee49...</td>\n",
       "      <td>751.0</td>\n",
       "    </tr>\n",
       "    <tr>\n",
       "      <th>4</th>\n",
       "      <td>Rod Wave</td>\n",
       "      <td>Rodarius Marcell Green (born August 27, 1998),...</td>\n",
       "      <td>https://images.genius.com/4a800d74ab2eb5821156...</td>\n",
       "      <td>265.0</td>\n",
       "    </tr>\n",
       "    <tr>\n",
       "      <th>5</th>\n",
       "      <td>Doja Cat</td>\n",
       "      <td>Amala Ratna Zandile Dlamini (born on October 2...</td>\n",
       "      <td>https://images.genius.com/2686a106bac2a8a7c1e9...</td>\n",
       "      <td>1156.0</td>\n",
       "    </tr>\n",
       "  </tbody>\n",
       "</table>\n",
       "</div>"
      ],
      "text/plain": [
       "        artist                                        description  \\\n",
       "1  Post Malone  Austin Richard Post (born July 4, 1995), bette...   \n",
       "2   The Weeknd  Abel Makkonen Tesfaye (born February 16, 1990 ...   \n",
       "3  Roddy Ricch  Rodrick Wayne Moore, Jr. (b. October 22, 1998)...   \n",
       "4     Rod Wave  Rodarius Marcell Green (born August 27, 1998),...   \n",
       "5     Doja Cat  Amala Ratna Zandile Dlamini (born on October 2...   \n",
       "\n",
       "                                          images_url  followers_count  \n",
       "1  https://images.genius.com/1010194fa644be099aa2...           4616.0  \n",
       "2  https://images.genius.com/f0813e600d43b8b43c94...           8358.0  \n",
       "3  https://images.genius.com/78cf8142bcc24004ee49...            751.0  \n",
       "4  https://images.genius.com/4a800d74ab2eb5821156...            265.0  \n",
       "5  https://images.genius.com/2686a106bac2a8a7c1e9...           1156.0  "
      ]
     },
     "execution_count": 21,
     "metadata": {},
     "output_type": "execute_result"
    }
   ],
   "source": [
    "artists.head()"
   ]
  },
  {
   "cell_type": "markdown",
   "metadata": {},
   "source": [
    "# Songs"
   ]
  },
  {
   "cell_type": "code",
   "execution_count": 22,
   "metadata": {},
   "outputs": [
    {
     "data": {
      "text/html": [
       "<div>\n",
       "<style scoped>\n",
       "    .dataframe tbody tr th:only-of-type {\n",
       "        vertical-align: middle;\n",
       "    }\n",
       "\n",
       "    .dataframe tbody tr th {\n",
       "        vertical-align: top;\n",
       "    }\n",
       "\n",
       "    .dataframe thead th {\n",
       "        text-align: right;\n",
       "    }\n",
       "</style>\n",
       "<table border=\"1\" class=\"dataframe\">\n",
       "  <thead>\n",
       "    <tr style=\"text-align: right;\">\n",
       "      <th></th>\n",
       "      <th>song_name</th>\n",
       "      <th>artist</th>\n",
       "      <th>lyrics</th>\n",
       "      <th>description</th>\n",
       "      <th>accepted_annotations</th>\n",
       "      <th>contributors</th>\n",
       "      <th>pageviews</th>\n",
       "    </tr>\n",
       "  </thead>\n",
       "  <tbody>\n",
       "    <tr>\n",
       "      <th>1</th>\n",
       "      <td>​​rockstar</td>\n",
       "      <td>Post Malone</td>\n",
       "      <td>[Intro: Post Malone] Hahahahaha Tank God Ayy, ...</td>\n",
       "      <td>On “rockstar,” Post Malone compares his habits...</td>\n",
       "      <td>18.0</td>\n",
       "      <td>440.0</td>\n",
       "      <td>6884752.0</td>\n",
       "    </tr>\n",
       "    <tr>\n",
       "      <th>2</th>\n",
       "      <td>White Iverson</td>\n",
       "      <td>Post Malone</td>\n",
       "      <td>[Intro] Double OT I'm a new three [Chorus] Sau...</td>\n",
       "      <td>Virtually unknown before this track, Post Malo...</td>\n",
       "      <td>31.0</td>\n",
       "      <td>222.0</td>\n",
       "      <td>4145011.0</td>\n",
       "    </tr>\n",
       "    <tr>\n",
       "      <th>3</th>\n",
       "      <td>Congratulations</td>\n",
       "      <td>Post Malone</td>\n",
       "      <td>[Intro: Post Malone] Mm-mmm Yeah, yeah Mm-mmm ...</td>\n",
       "      <td>On “Congratulations,“ Post Malone and Quavo ce...</td>\n",
       "      <td>13.0</td>\n",
       "      <td>222.0</td>\n",
       "      <td>3634846.0</td>\n",
       "    </tr>\n",
       "    <tr>\n",
       "      <th>4</th>\n",
       "      <td>Psycho</td>\n",
       "      <td>Post Malone</td>\n",
       "      <td>[Chorus: Post Malone] Damn, my AP goin' psycho...</td>\n",
       "      <td>“Psycho” is the third single from Post Malone’...</td>\n",
       "      <td>21.0</td>\n",
       "      <td>230.0</td>\n",
       "      <td>3082328.0</td>\n",
       "    </tr>\n",
       "    <tr>\n",
       "      <th>5</th>\n",
       "      <td>I Fall Apart</td>\n",
       "      <td>Post Malone</td>\n",
       "      <td>[Intro] Ooh, I fall apart Ooh, yeah, mmm, yeah...</td>\n",
       "      <td>On “I Fall Apart,” Post reminisces about a hea...</td>\n",
       "      <td>7.0</td>\n",
       "      <td>126.0</td>\n",
       "      <td>2640796.0</td>\n",
       "    </tr>\n",
       "  </tbody>\n",
       "</table>\n",
       "</div>"
      ],
      "text/plain": [
       "         song_name       artist  \\\n",
       "1       ​​rockstar  Post Malone   \n",
       "2    White Iverson  Post Malone   \n",
       "3  Congratulations  Post Malone   \n",
       "4           Psycho  Post Malone   \n",
       "5     I Fall Apart  Post Malone   \n",
       "\n",
       "                                              lyrics  \\\n",
       "1  [Intro: Post Malone] Hahahahaha Tank God Ayy, ...   \n",
       "2  [Intro] Double OT I'm a new three [Chorus] Sau...   \n",
       "3  [Intro: Post Malone] Mm-mmm Yeah, yeah Mm-mmm ...   \n",
       "4  [Chorus: Post Malone] Damn, my AP goin' psycho...   \n",
       "5  [Intro] Ooh, I fall apart Ooh, yeah, mmm, yeah...   \n",
       "\n",
       "                                         description  accepted_annotations  \\\n",
       "1  On “rockstar,” Post Malone compares his habits...                  18.0   \n",
       "2  Virtually unknown before this track, Post Malo...                  31.0   \n",
       "3  On “Congratulations,“ Post Malone and Quavo ce...                  13.0   \n",
       "4  “Psycho” is the third single from Post Malone’...                  21.0   \n",
       "5  On “I Fall Apart,” Post reminisces about a hea...                   7.0   \n",
       "\n",
       "   contributors  pageviews  \n",
       "1         440.0  6884752.0  \n",
       "2         222.0  4145011.0  \n",
       "3         222.0  3634846.0  \n",
       "4         230.0  3082328.0  \n",
       "5         126.0  2640796.0  "
      ]
     },
     "execution_count": 22,
     "metadata": {},
     "output_type": "execute_result"
    }
   ],
   "source": [
    "songs.head()"
   ]
  },
  {
   "cell_type": "markdown",
   "metadata": {},
   "source": [
    "# Data Cleaning: Artist Gender"
   ]
  },
  {
   "cell_type": "code",
   "execution_count": 23,
   "metadata": {},
   "outputs": [],
   "source": [
    "# Function to Count How Many Gendered Words Appear in Description \n",
    "def count_male(row):\n",
    "    num_male = 0\n",
    "    male_words = [' his ',' he ',' him ',' himself ',' man ',' actor ']\n",
    "    for word in male_words:\n",
    "        num_male += row['description'].lower().count(word)\n",
    "    return num_male\n",
    "\n",
    "def count_female(row):\n",
    "    num_female = 0\n",
    "    female_words = [' her ',' hers ',' she ',' herself ',' woman ',' actress ']\n",
    "    for word in female_words:\n",
    "        num_female += row['description'].lower().count(word)\n",
    "    return num_female\n",
    "\n",
    "artists['male_count'] = artists.apply(count_male, axis = 1)\n",
    "artists['female_count'] = artists.apply(count_female, axis = 1)"
   ]
  },
  {
   "cell_type": "code",
   "execution_count": 24,
   "metadata": {},
   "outputs": [],
   "source": [
    "# Function to Get Artist Gender from Gender Word Counts\n",
    "def get_gender(row):\n",
    "    if row['male_count'] > row['female_count']:\n",
    "        return \"Male\"\n",
    "    elif row['female_count'] > row['male_count']:\n",
    "        return \"Female\"\n",
    "    else:\n",
    "        return None\n",
    "    \n",
    "artists['gender'] = artists.apply(get_gender, axis = 1)"
   ]
  },
  {
   "cell_type": "code",
   "execution_count": 25,
   "metadata": {},
   "outputs": [],
   "source": [
    "# Catching missed genders\n",
    "missed = {'Gabby Barrett':'Female', 'Sam Smith':'Non Binary', 'Demi Lovato':'Non Binary'}\n",
    "art_miss = ['Gabby Barrett','Sam Smith','Demi Lovato']\n",
    "artists[\"missed\"] = artists[\"artist\"].map(missed)"
   ]
  },
  {
   "cell_type": "code",
   "execution_count": 26,
   "metadata": {},
   "outputs": [],
   "source": [
    "#Correcting mis-gendered artists\n",
    "def correct_gender(row):\n",
    "    if row['artist'] in art_miss:\n",
    "        return row['missed']\n",
    "    else:\n",
    "        return row['gender']\n",
    "    \n",
    "artists['gender'] = artists.apply(correct_gender, axis = 1)\n",
    "artists = artists.drop(columns=['male_count', 'female_count','missed'])"
   ]
  },
  {
   "cell_type": "markdown",
   "metadata": {},
   "source": [
    "# Data Cleaning: Artist Age"
   ]
  },
  {
   "cell_type": "markdown",
   "metadata": {},
   "source": [
    "Most birth years are recorded like this: '(b. December 6, 1995)' towards the begining of the description\n",
    "\n",
    "I am looking for the first occurance of the pattern ' ####)' to get artist birth year"
   ]
  },
  {
   "cell_type": "code",
   "execution_count": 27,
   "metadata": {},
   "outputs": [],
   "source": [
    "# getting first year that occirs in text and checking that its not too recent\n",
    "def birth_year(row):\n",
    "    years_list = re.findall(r\"\\d\\d\\d\\d\", row['description'])\n",
    "    if not years_list:\n",
    "        return None\n",
    "    else:\n",
    "        if int(years_list[0]) < 2004:\n",
    "            return int(years_list[0])\n",
    "        else:\n",
    "            return None\n",
    "    \n",
    "artists['birth_year'] = artists.apply(birth_year, axis = 1)"
   ]
  },
  {
   "cell_type": "code",
   "execution_count": 28,
   "metadata": {},
   "outputs": [],
   "source": [
    "# Catching missed birth years\n",
    "missed_year = {'Taylor Swift': 1989,'Luke Combs': 1990,\n",
    "               'Chris Brown': 1989, 'Selena Gomez': 1992,\n",
    "               'Maren Morris': 1990,'Halsey': 1994,\n",
    "               'Tones and I': 2000,'Ed Sheeran': 1991,\n",
    "               'Gabby Barrett': 2000,'Lady Gaga': 1986,\n",
    "               'SAINt JHN': 1986,'Trevor Daniel': 1994,\n",
    "               'Jason Aldean': 1977,'Arizona Zervas': 1995,\n",
    "               '\\u200bblackbear': 1990,'Moneybagg Yo': 1999,\n",
    "               'Machine Gun Kelly': 1990,'NF': 1991,'Kenny Chesney': 1968,\n",
    "               'Lana Del Rey': 1985,'Jason Derulo': 1989,'Ashe': 1993}\n",
    "\n",
    "year_miss = ['Taylor Swift','Luke Combs','Chris Brown','Selena Gomez',\n",
    "             'Maren Morris','Halsey','Tones and I','Ed Sheeran',\n",
    "             'Gabby Barrett','Lady Gaga','SAINt JHN','Trevor Daniel',\n",
    "             'Jason Aldean','Arizona Zervas','\\u200bblackbear','Moneybagg Yo',\n",
    "             'Machine Gun Kelly','NF','Kenny Chesney',\n",
    "             'Lana Del Rey','Jason Derulo','Ashe']\n",
    "\n",
    "artists[\"missed_year\"] = artists[\"artist\"].map(missed_year)"
   ]
  },
  {
   "cell_type": "code",
   "execution_count": 29,
   "metadata": {},
   "outputs": [],
   "source": [
    "#Correcting mis-gendered artists\n",
    "def correct_year(row):\n",
    "    if row['artist'] in year_miss:\n",
    "        return row['missed_year']\n",
    "    else:\n",
    "        return row['birth_year']\n",
    "    \n",
    "artists['birth_year'] = artists.apply(correct_year, axis = 1)\n",
    "artists = artists.drop(columns=['missed_year'])"
   ]
  },
  {
   "cell_type": "code",
   "execution_count": 30,
   "metadata": {},
   "outputs": [],
   "source": [
    "#Getting Decade Born\n",
    "def decade(row):\n",
    "    if row['birth_year'] in [1960,1961,1962,1963,1964,1965,1966,1967,1968,1969]:\n",
    "        return \"1960s\"\n",
    "    elif row['birth_year'] in [1970,1971,1972,1973,1974,1975,1976,1977,1978,1979]:\n",
    "        return \"1970s\"\n",
    "    elif row['birth_year'] in [1980,1981,1982,1983,1984,1985,1986,1987,1988,1989]:\n",
    "        return \"1980s\"\n",
    "    elif row['birth_year'] in [1990,1991,1992,1993,1994,1995,1996,1997,1998,1999]:\n",
    "        return \"1990s\"\n",
    "    elif row['birth_year'] in [2000,2001,2002,2003,2004]:\n",
    "        return \"2000s\"\n",
    "    else:\n",
    "        return None\n",
    "    \n",
    "artists['birth_decade'] = artists.apply(decade, axis = 1)"
   ]
  },
  {
   "cell_type": "code",
   "execution_count": 31,
   "metadata": {},
   "outputs": [],
   "source": [
    "# making buckets by 5 years\n",
    "def five_years(row):\n",
    "    if row['birth_year'] in [1960,1961,1962,1963,1964]:\n",
    "        return \"1960-1964\"\n",
    "    elif row['birth_year'] in [1965,1966,1967,1968,1969]:\n",
    "        return \"1965-1969\"\n",
    "    elif row['birth_year'] in [1970,1971,1972,1973,1974]:\n",
    "        return \"1970-1974\"\n",
    "    elif row['birth_year'] in [1975,1976,1977,1978,1979]:\n",
    "        return \"1975-1979\"\n",
    "    elif row['birth_year'] in [1980,1981,1982,1983,1984]:\n",
    "        return \"1980-1984\"\n",
    "    elif row['birth_year'] in [1985,1986,1987,1988,1989]:\n",
    "        return \"1985-1989\"\n",
    "    elif row['birth_year'] in [1990,1991,1992,1993,1994]:\n",
    "        return \"1990-1994\"\n",
    "    elif row['birth_year'] in [1995,1996,1997,1998,1999]:\n",
    "        return \"1995-1999\"\n",
    "    elif row['birth_year'] in [2000,2001,2002,2003,2004]:\n",
    "        return \"2000-2004\"\n",
    "    else:\n",
    "        return None\n",
    "    \n",
    "artists['birth_5_yr'] = artists.apply(five_years, axis = 1)"
   ]
  },
  {
   "cell_type": "markdown",
   "metadata": {},
   "source": [
    "# Data Cleaning: Genre"
   ]
  },
  {
   "cell_type": "code",
   "execution_count": null,
   "metadata": {},
   "outputs": [],
   "source": []
  },
  {
   "cell_type": "markdown",
   "metadata": {},
   "source": [
    "# Exporting Cleaned Data"
   ]
  },
  {
   "cell_type": "code",
   "execution_count": 32,
   "metadata": {},
   "outputs": [],
   "source": [
    "artists.to_csv('../data/artist_cleaned.csv', index=False)\n",
    "songs.to_csv('../data/songs_cleaned.csv', index=False)"
   ]
  },
  {
   "cell_type": "code",
   "execution_count": null,
   "metadata": {},
   "outputs": [],
   "source": []
  }
 ],
 "metadata": {
  "kernelspec": {
   "display_name": "Python 3",
   "language": "python",
   "name": "python3"
  },
  "language_info": {
   "codemirror_mode": {
    "name": "ipython",
    "version": 3
   },
   "file_extension": ".py",
   "mimetype": "text/x-python",
   "name": "python",
   "nbconvert_exporter": "python",
   "pygments_lexer": "ipython3",
   "version": "3.7.6"
  }
 },
 "nbformat": 4,
 "nbformat_minor": 4
}
