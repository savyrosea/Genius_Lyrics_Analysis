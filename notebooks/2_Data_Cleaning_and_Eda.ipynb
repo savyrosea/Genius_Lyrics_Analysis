{
 "cells": [
  {
   "cell_type": "code",
   "execution_count": 1,
   "metadata": {},
   "outputs": [],
   "source": [
    "import pandas as pd\n",
    "import matplotlib.pyplot as plt\n",
    "import seaborn as sns"
   ]
  },
  {
   "cell_type": "code",
   "execution_count": 2,
   "metadata": {},
   "outputs": [],
   "source": [
    "artists = pd.read_csv('artist.csv')\n",
    "songs = pd.read_csv('songs.csv')"
   ]
  },
  {
   "cell_type": "markdown",
   "metadata": {},
   "source": [
    "# Artists"
   ]
  },
  {
   "cell_type": "code",
   "execution_count": 15,
   "metadata": {},
   "outputs": [
    {
     "data": {
      "text/html": [
       "<div>\n",
       "<style scoped>\n",
       "    .dataframe tbody tr th:only-of-type {\n",
       "        vertical-align: middle;\n",
       "    }\n",
       "\n",
       "    .dataframe tbody tr th {\n",
       "        vertical-align: top;\n",
       "    }\n",
       "\n",
       "    .dataframe thead th {\n",
       "        text-align: right;\n",
       "    }\n",
       "</style>\n",
       "<table border=\"1\" class=\"dataframe\">\n",
       "  <thead>\n",
       "    <tr style=\"text-align: right;\">\n",
       "      <th></th>\n",
       "      <th>artist</th>\n",
       "      <th>description</th>\n",
       "      <th>images_url</th>\n",
       "      <th>followers_count</th>\n",
       "    </tr>\n",
       "  </thead>\n",
       "  <tbody>\n",
       "    <tr>\n",
       "      <th>25</th>\n",
       "      <td>Lil Tecca</td>\n",
       "      <td>Tyler-Justin Anthony Sharpe (b. August 26, 200...</td>\n",
       "      <td>https://images.genius.com/c6a088770ca28183f2da...</td>\n",
       "      <td>493.0</td>\n",
       "    </tr>\n",
       "    <tr>\n",
       "      <th>26</th>\n",
       "      <td>Lil Tjay</td>\n",
       "      <td>Tione Jayden Merritt, better known as Lil Tjay...</td>\n",
       "      <td>https://images.genius.com/55bfa2109ae20290e766...</td>\n",
       "      <td>669.0</td>\n",
       "    </tr>\n",
       "    <tr>\n",
       "      <th>27</th>\n",
       "      <td>Travis Scott</td>\n",
       "      <td>Jacques Berman Webster II (born April 30, 1992...</td>\n",
       "      <td>https://images.genius.com/1ec8b461b188ea307768...</td>\n",
       "      <td>7368.0</td>\n",
       "    </tr>\n",
       "    <tr>\n",
       "      <th>28</th>\n",
       "      <td>Morgan Wallen</td>\n",
       "      <td>Morgan Wallen (born May 13, 1993) is an Americ...</td>\n",
       "      <td>https://images.genius.com/65c0b9a72cf7b55b7cf2...</td>\n",
       "      <td>63.0</td>\n",
       "    </tr>\n",
       "    <tr>\n",
       "      <th>29</th>\n",
       "      <td>Lizzo</td>\n",
       "      <td>Melissa Jefferson (born April 27, 1988), bette...</td>\n",
       "      <td>https://images.genius.com/f5ab6722a4c9021ff639...</td>\n",
       "      <td>272.0</td>\n",
       "    </tr>\n",
       "  </tbody>\n",
       "</table>\n",
       "</div>"
      ],
      "text/plain": [
       "           artist                                        description  \\\n",
       "25      Lil Tecca  Tyler-Justin Anthony Sharpe (b. August 26, 200...   \n",
       "26       Lil Tjay  Tione Jayden Merritt, better known as Lil Tjay...   \n",
       "27   Travis Scott  Jacques Berman Webster II (born April 30, 1992...   \n",
       "28  Morgan Wallen  Morgan Wallen (born May 13, 1993) is an Americ...   \n",
       "29          Lizzo  Melissa Jefferson (born April 27, 1988), bette...   \n",
       "\n",
       "                                           images_url  followers_count  \n",
       "25  https://images.genius.com/c6a088770ca28183f2da...            493.0  \n",
       "26  https://images.genius.com/55bfa2109ae20290e766...            669.0  \n",
       "27  https://images.genius.com/1ec8b461b188ea307768...           7368.0  \n",
       "28  https://images.genius.com/65c0b9a72cf7b55b7cf2...             63.0  \n",
       "29  https://images.genius.com/f5ab6722a4c9021ff639...            272.0  "
      ]
     },
     "execution_count": 15,
     "metadata": {},
     "output_type": "execute_result"
    }
   ],
   "source": [
    "artists[25:30]"
   ]
  },
  {
   "cell_type": "code",
   "execution_count": 4,
   "metadata": {},
   "outputs": [
    {
     "data": {
      "text/plain": [
       "(139, 4)"
      ]
     },
     "execution_count": 4,
     "metadata": {},
     "output_type": "execute_result"
    }
   ],
   "source": [
    "artists.shape"
   ]
  },
  {
   "cell_type": "code",
   "execution_count": 5,
   "metadata": {},
   "outputs": [
    {
     "name": "stdout",
     "output_type": "stream",
     "text": [
      "<class 'pandas.core.frame.DataFrame'>\n",
      "RangeIndex: 139 entries, 0 to 138\n",
      "Data columns (total 4 columns):\n",
      " #   Column           Non-Null Count  Dtype  \n",
      "---  ------           --------------  -----  \n",
      " 0   artist           138 non-null    object \n",
      " 1   description      138 non-null    object \n",
      " 2   images_url       138 non-null    object \n",
      " 3   followers_count  138 non-null    float64\n",
      "dtypes: float64(1), object(3)\n",
      "memory usage: 4.5+ KB\n"
     ]
    }
   ],
   "source": [
    "artists.info()"
   ]
  },
  {
   "cell_type": "code",
   "execution_count": 6,
   "metadata": {},
   "outputs": [
    {
     "name": "stderr",
     "output_type": "stream",
     "text": [
      "C:\\Users\\savro\\anaconda3\\lib\\site-packages\\numpy\\lib\\histograms.py:839: RuntimeWarning: invalid value encountered in greater_equal\n",
      "  keep = (tmp_a >= first_edge)\n",
      "C:\\Users\\savro\\anaconda3\\lib\\site-packages\\numpy\\lib\\histograms.py:840: RuntimeWarning: invalid value encountered in less_equal\n",
      "  keep &= (tmp_a <= last_edge)\n"
     ]
    },
    {
     "data": {
      "image/png": "[encoded data removed]",
      "text/plain": [
       "<Figure size 432x288 with 1 Axes>"
      ]
     },
     "metadata": {
      "needs_background": "light"
     },
     "output_type": "display_data"
    }
   ],
   "source": [
    "plt.hist(artists['followers_count'], bins = 40)\n",
    "plt.show()"
   ]
  },
  {
   "cell_type": "markdown",
   "metadata": {},
   "source": [
    "# Songs"
   ]
  },
  {
   "cell_type": "code",
   "execution_count": 17,
   "metadata": {},
   "outputs": [
    {
     "data": {
      "text/html": [
       "<div>\n",
       "<style scoped>\n",
       "    .dataframe tbody tr th:only-of-type {\n",
       "        vertical-align: middle;\n",
       "    }\n",
       "\n",
       "    .dataframe tbody tr th {\n",
       "        vertical-align: top;\n",
       "    }\n",
       "\n",
       "    .dataframe thead th {\n",
       "        text-align: right;\n",
       "    }\n",
       "</style>\n",
       "<table border=\"1\" class=\"dataframe\">\n",
       "  <thead>\n",
       "    <tr style=\"text-align: right;\">\n",
       "      <th></th>\n",
       "      <th>song_name</th>\n",
       "      <th>artist</th>\n",
       "      <th>lyrics</th>\n",
       "      <th>description</th>\n",
       "      <th>accepted_annotations</th>\n",
       "      <th>contributors</th>\n",
       "      <th>pageviews</th>\n",
       "    </tr>\n",
       "  </thead>\n",
       "  <tbody>\n",
       "    <tr>\n",
       "      <th>3</th>\n",
       "      <td>Congratulations</td>\n",
       "      <td>Post Malone</td>\n",
       "      <td>[Intro: Post Malone] Mm-mmm Yeah, yeah Mm-mmm ...</td>\n",
       "      <td>On “Congratulations,“ Post Malone and Quavo ce...</td>\n",
       "      <td>13.0</td>\n",
       "      <td>211.0</td>\n",
       "      <td>3616008.0</td>\n",
       "    </tr>\n",
       "    <tr>\n",
       "      <th>4</th>\n",
       "      <td>Psycho</td>\n",
       "      <td>Post Malone</td>\n",
       "      <td>[Chorus: Post Malone] Damn, my AP goin' psycho...</td>\n",
       "      <td>“Psycho” is the third single from Post Malone’...</td>\n",
       "      <td>21.0</td>\n",
       "      <td>231.0</td>\n",
       "      <td>3045285.0</td>\n",
       "    </tr>\n",
       "    <tr>\n",
       "      <th>5</th>\n",
       "      <td>I Fall Apart</td>\n",
       "      <td>Post Malone</td>\n",
       "      <td>[Intro] Ooh, I fall apart Ooh, yeah, mmm, yeah...</td>\n",
       "      <td>On “I Fall Apart,” Post reminisces about a hea...</td>\n",
       "      <td>7.0</td>\n",
       "      <td>126.0</td>\n",
       "      <td>2631922.0</td>\n",
       "    </tr>\n",
       "    <tr>\n",
       "      <th>6</th>\n",
       "      <td>The Hills</td>\n",
       "      <td>The Weeknd</td>\n",
       "      <td>[Intro] Yeah Yeah Yeah  [Verse 1] Your man on ...</td>\n",
       "      <td>Originally nicknamed “Mood Music” and first te...</td>\n",
       "      <td>11.0</td>\n",
       "      <td>314.0</td>\n",
       "      <td>8855761.0</td>\n",
       "    </tr>\n",
       "    <tr>\n",
       "      <th>7</th>\n",
       "      <td>Starboy</td>\n",
       "      <td>The Weeknd</td>\n",
       "      <td>[Verse 1] I'm tryna put you in the worst mood,...</td>\n",
       "      <td>“Starboy” is The Weeknd’s realization of his m...</td>\n",
       "      <td>18.0</td>\n",
       "      <td>447.0</td>\n",
       "      <td>6503182.0</td>\n",
       "    </tr>\n",
       "  </tbody>\n",
       "</table>\n",
       "</div>"
      ],
      "text/plain": [
       "         song_name       artist  \\\n",
       "3  Congratulations  Post Malone   \n",
       "4           Psycho  Post Malone   \n",
       "5     I Fall Apart  Post Malone   \n",
       "6        The Hills   The Weeknd   \n",
       "7          Starboy   The Weeknd   \n",
       "\n",
       "                                              lyrics  \\\n",
       "3  [Intro: Post Malone] Mm-mmm Yeah, yeah Mm-mmm ...   \n",
       "4  [Chorus: Post Malone] Damn, my AP goin' psycho...   \n",
       "5  [Intro] Ooh, I fall apart Ooh, yeah, mmm, yeah...   \n",
       "6  [Intro] Yeah Yeah Yeah  [Verse 1] Your man on ...   \n",
       "7  [Verse 1] I'm tryna put you in the worst mood,...   \n",
       "\n",
       "                                         description  accepted_annotations  \\\n",
       "3  On “Congratulations,“ Post Malone and Quavo ce...                  13.0   \n",
       "4  “Psycho” is the third single from Post Malone’...                  21.0   \n",
       "5  On “I Fall Apart,” Post reminisces about a hea...                   7.0   \n",
       "6  Originally nicknamed “Mood Music” and first te...                  11.0   \n",
       "7  “Starboy” is The Weeknd’s realization of his m...                  18.0   \n",
       "\n",
       "   contributors  pageviews  \n",
       "3         211.0  3616008.0  \n",
       "4         231.0  3045285.0  \n",
       "5         126.0  2631922.0  \n",
       "6         314.0  8855761.0  \n",
       "7         447.0  6503182.0  "
      ]
     },
     "execution_count": 17,
     "metadata": {},
     "output_type": "execute_result"
    }
   ],
   "source": [
    "songs[3:8]"
   ]
  },
  {
   "cell_type": "code",
   "execution_count": 8,
   "metadata": {},
   "outputs": [
    {
     "data": {
      "text/plain": [
       "(724, 7)"
      ]
     },
     "execution_count": 8,
     "metadata": {},
     "output_type": "execute_result"
    }
   ],
   "source": [
    "songs.shape"
   ]
  },
  {
   "cell_type": "code",
   "execution_count": 9,
   "metadata": {},
   "outputs": [
    {
     "name": "stdout",
     "output_type": "stream",
     "text": [
      "<class 'pandas.core.frame.DataFrame'>\n",
      "RangeIndex: 724 entries, 0 to 723\n",
      "Data columns (total 7 columns):\n",
      " #   Column                Non-Null Count  Dtype  \n",
      "---  ------                --------------  -----  \n",
      " 0   song_name             723 non-null    object \n",
      " 1   artist                723 non-null    object \n",
      " 2   lyrics                723 non-null    object \n",
      " 3   description           723 non-null    object \n",
      " 4   accepted_annotations  723 non-null    float64\n",
      " 5   contributors          723 non-null    float64\n",
      " 6   pageviews             723 non-null    float64\n",
      "dtypes: float64(3), object(4)\n",
      "memory usage: 39.7+ KB\n"
     ]
    }
   ],
   "source": [
    "songs.info()"
   ]
  },
  {
   "cell_type": "code",
   "execution_count": 32,
   "metadata": {},
   "outputs": [
    {
     "data": {
      "text/plain": [
       "<function matplotlib.pyplot.show(*args, **kw)>"
      ]
     },
     "execution_count": 32,
     "metadata": {},
     "output_type": "execute_result"
    },
    {
     "data": {
      "image/png": "[encoded data removed]",
      "text/plain": [
       "<Figure size 540x540 with 12 Axes>"
      ]
     },
     "metadata": {
      "needs_background": "light"
     },
     "output_type": "display_data"
    }
   ],
   "source": [
    "sns.pairplot(songs)\n",
    "plt.show"
   ]
  },
  {
   "cell_type": "markdown",
   "metadata": {},
   "source": [
    "# Analysis Ideas\n",
    "\n",
    "### Word Count\n",
    "- number of unique or total words in lyrics\n",
    "\n",
    "### Most Common Words per Song\n",
    "- Common words per each song\n",
    "- Common words/ phrases of 2-3 words for different gender/age of artist\n",
    "\n",
    "### Sentament Analysis\n",
    "- VADER? (negative or positive count per song)\n",
    "- Sentament changes during song\n",
    "- 10 sentiments with NRC lexicon (positive, negative, anger, anticipation, disgust, fear, joy, sadness, surprise, and trust)\n",
    "\n",
    "### Profanity\n",
    "- count number of profainity per song (profanity-check)\n",
    "- percent of total song that is profain\n",
    "\n",
    "### Clustering\n",
    "- cluster song or artists and see how if it clusters by song topic or genre"
   ]
  },
  {
   "cell_type": "code",
   "execution_count": null,
   "metadata": {},
   "outputs": [],
   "source": []
  }
 ],
 "metadata": {
  "kernelspec": {
   "display_name": "Python 3",
   "language": "python",
   "name": "python3"
  },
  "language_info": {
   "codemirror_mode": {
    "name": "ipython",
    "version": 3
   },
   "file_extension": ".py",
   "mimetype": "text/x-python",
   "name": "python",
   "nbconvert_exporter": "python",
   "pygments_lexer": "ipython3",
   "version": "3.7.6"
  }
 },
 "nbformat": 4,
 "nbformat_minor": 4
}
