{
 "cells": [
  {
   "cell_type": "code",
   "execution_count": 418,
   "metadata": {},
   "outputs": [],
   "source": [
    "import warnings\n",
    "warnings.filterwarnings('ignore')\n",
    "import pandas as pd\n",
    "pd.set_option('display.max_rows', 500)\n",
    "pd.set_option('display.max_columns', 500)\n",
    "import matplotlib.pyplot as plt\n",
    "%matplotlib inline\n",
    "import matplotlib\n",
    "from collections import Counter\n",
    "from random import randrange\n",
    "from profanity_check import predict, predict_prob"
   ]
  },
  {
   "cell_type": "code",
   "execution_count": 419,
   "metadata": {},
   "outputs": [],
   "source": [
    "songs = pd.read_csv('../data/songs_after_round_3_cleaning.csv')"
   ]
  },
  {
   "cell_type": "markdown",
   "metadata": {},
   "source": [
    "# Build Lyrics Corpus"
   ]
  },
  {
   "cell_type": "code",
   "execution_count": 420,
   "metadata": {},
   "outputs": [],
   "source": [
    "lyrics_corpus = \"\"\n",
    "\n",
    "for l in list(songs['cleaned_lyrics']):\n",
    "    lyrics_corpus += l"
   ]
  },
  {
   "cell_type": "code",
   "execution_count": 421,
   "metadata": {},
   "outputs": [],
   "source": [
    "lyrics_list = lyrics_corpus.split()"
   ]
  },
  {
   "cell_type": "code",
   "execution_count": 422,
   "metadata": {},
   "outputs": [],
   "source": [
    "lyrics_list = [s.replace(\"[\", \"\") for s in lyrics_list]\n",
    "lyrics_list = [s.replace(\"]\", \"\") for s in lyrics_list]"
   ]
  },
  {
   "cell_type": "markdown",
   "metadata": {},
   "source": [
    "# Get Probabilty Word Follows Another Word to Generate Lyrics"
   ]
  },
  {
   "cell_type": "code",
   "execution_count": 325,
   "metadata": {},
   "outputs": [],
   "source": [
    "def most_frequent(List):\n",
    "    occurence_count = Counter(List)\n",
    "    return occurence_count.most_common(6)"
   ]
  },
  {
   "cell_type": "code",
   "execution_count": 389,
   "metadata": {},
   "outputs": [],
   "source": [
    "dirty = ['fuck','ass','shit','bitch','cunt','nigga','nigger','niggas','niggers','asshole','penis','bitches']"
   ]
  },
  {
   "cell_type": "code",
   "execution_count": 390,
   "metadata": {},
   "outputs": [],
   "source": [
    "def create_lyrics(start_word, length):\n",
    "    \n",
    "    new_word = start_word\n",
    "    lyrics = start_word + ' '\n",
    "    \n",
    "    for i in range(length):\n",
    "        \n",
    "        following_words = []\n",
    "        \n",
    "        for i in range(len(lyrics_list)):\n",
    "            if (lyrics_list[i] == new_word) and (i != len(lyrics_list) -1):\n",
    "                following_words.append(lyrics_list[i+1])\n",
    "    \n",
    "        if len(set(following_words)) > 10:\n",
    "            fol = most_frequent(following_words)[randrange(5)][0]\n",
    "            if fol in dirty:\n",
    "                fol = most_frequent(following_words)[randrange(5)][0]\n",
    "            if fol in dirty:\n",
    "                fol = most_frequent(following_words)[randrange(5)][0]\n",
    "            lyrics += fol + \" \"\n",
    "            new_word = fol\n",
    "            \n",
    "        else:\n",
    "            if most_frequent(following_words)[0][0] in dirty:\n",
    "                lyrics += '***censored***' + \" \"\n",
    "                new_word = most_frequent(following_words)[0][0]\n",
    "            else:\n",
    "                lyrics += str(most_frequent(following_words)[0][0]) + \" \"\n",
    "                new_word = most_frequent(following_words)[0][0]\n",
    "                \n",
    "       \n",
    "            \n",
    "        \n",
    "    return(lyrics)"
   ]
  },
  {
   "cell_type": "code",
   "execution_count": 391,
   "metadata": {},
   "outputs": [
    {
     "data": {
      "text/plain": [
       "'people who the only time i got it was the one more time i know what they dont you dont wanna '"
      ]
     },
     "execution_count": 391,
     "metadata": {},
     "output_type": "execute_result"
    }
   ],
   "source": [
    "create_lyrics('people', 20)"
   ]
  },
  {
   "cell_type": "code",
   "execution_count": 392,
   "metadata": {},
   "outputs": [
    {
     "data": {
      "text/plain": [
       "'wow and i dont need you dont want it up on a bad at the way to be your mind and '"
      ]
     },
     "execution_count": 392,
     "metadata": {},
     "output_type": "execute_result"
    }
   ],
   "source": [
    "create_lyrics('wow', 20)"
   ]
  },
  {
   "cell_type": "code",
   "execution_count": 393,
   "metadata": {},
   "outputs": [
    {
     "data": {
      "text/plain": [
       "'tonight baby you can you know i just a lot on '"
      ]
     },
     "execution_count": 393,
     "metadata": {},
     "output_type": "execute_result"
    }
   ],
   "source": [
    "create_lyrics('tonight', 10)"
   ]
  },
  {
   "cell_type": "code",
   "execution_count": 394,
   "metadata": {},
   "outputs": [
    {
     "data": {
      "text/plain": [
       "'bad for my mind to the way i cant take a bitch dont want to my heart and i just wanna '"
      ]
     },
     "execution_count": 394,
     "metadata": {},
     "output_type": "execute_result"
    }
   ],
   "source": [
    "create_lyrics('bad', 20)"
   ]
  },
  {
   "cell_type": "markdown",
   "metadata": {},
   "source": [
    "# Write Song Function"
   ]
  },
  {
   "cell_type": "code",
   "execution_count": 438,
   "metadata": {},
   "outputs": [],
   "source": [
    "# list of first words in songs\n",
    "starter = ['i','im','you','dont','every',\n",
    "           'and','oh','yeah','youre','baby','so','she',\n",
    "           'he','they','this','well','we','hey','if','how']"
   ]
  },
  {
   "cell_type": "code",
   "execution_count": 439,
   "metadata": {},
   "outputs": [],
   "source": [
    "def write_song(row_length):\n",
    "    l = []\n",
    "    for j in range(row_length):\n",
    "        l.append(create_lyrics(starter[randrange(len(starter))], randrange(5,15)))\n",
    "    return l"
   ]
  },
  {
   "cell_type": "code",
   "execution_count": null,
   "metadata": {},
   "outputs": [],
   "source": [
    "for thing in write_song(15):\n",
    "    print(thing)"
   ]
  },
  {
   "cell_type": "code",
   "execution_count": 437,
   "metadata": {},
   "outputs": [
    {
     "name": "stdout",
     "output_type": "stream",
     "text": [
      "i just wanna be a little too long way \n",
      "im just wanna be there i dont want \n",
      "you got me a lot to the one \n",
      "dont want to my mind and my heart is the same \n",
      "every single time for a bad \n",
      "and my heart but im not \n",
      "oh no i dont you know what they know i cant be a little bit \n",
      "yeah verse 2: eminem (as stan) dear so high you \n",
      "youre not to you can get the way that we can see it was on \n",
      "baby i got the same old town and im the only love \n",
      "so good at the same as a little bit migraine migraine migraine yeah im not \n",
      "she said i got it aint gotta do it i just wanna know what i \n",
      "he said im on me a little oh you want you know you want me \n",
      "they dont know you got no \n",
      "this is you want to me you can see you know what they dont \n"
     ]
    }
   ],
   "source": [
    "for thing in write_song(7):\n",
    "    print(thing)"
   ]
  },
  {
   "cell_type": "code",
   "execution_count": null,
   "metadata": {},
   "outputs": [],
   "source": []
  }
 ],
 "metadata": {
  "kernelspec": {
   "display_name": "Python 3",
   "language": "python",
   "name": "python3"
  },
  "language_info": {
   "codemirror_mode": {
    "name": "ipython",
    "version": 3
   },
   "file_extension": ".py",
   "mimetype": "text/x-python",
   "name": "python",
   "nbconvert_exporter": "python",
   "pygments_lexer": "ipython3",
   "version": "3.7.6"
  }
 },
 "nbformat": 4,
 "nbformat_minor": 4
}
