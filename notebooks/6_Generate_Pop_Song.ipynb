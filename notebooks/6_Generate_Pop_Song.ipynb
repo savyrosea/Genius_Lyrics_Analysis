{
 "cells": [
  {
   "cell_type": "code",
   "execution_count": 222,
   "metadata": {},
   "outputs": [],
   "source": [
    "import warnings\n",
    "warnings.filterwarnings('ignore')\n",
    "import pandas as pd\n",
    "pd.set_option('display.max_rows', 500)\n",
    "pd.set_option('display.max_columns', 500)\n",
    "import matplotlib.pyplot as plt\n",
    "%matplotlib inline\n",
    "import matplotlib\n",
    "from collections import Counter\n",
    "from random import randrange\n",
    "from profanity_check import predict, predict_prob"
   ]
  },
  {
   "cell_type": "code",
   "execution_count": 5,
   "metadata": {},
   "outputs": [],
   "source": [
    "songs = pd.read_csv('../data/songs_after_round_3_cleaning.csv')"
   ]
  },
  {
   "cell_type": "markdown",
   "metadata": {},
   "source": [
    "# Build Lyrics Corpus"
   ]
  },
  {
   "cell_type": "code",
   "execution_count": 7,
   "metadata": {},
   "outputs": [],
   "source": [
    "lyrics_corpus = \"\"\n",
    "\n",
    "for l in list(songs['cleaned_lyrics']):\n",
    "    lyrics_corpus += l"
   ]
  },
  {
   "cell_type": "code",
   "execution_count": 9,
   "metadata": {},
   "outputs": [],
   "source": [
    "lyrics_list = lyrics_corpus.split()"
   ]
  },
  {
   "cell_type": "markdown",
   "metadata": {},
   "source": [
    "# Get Probabilty Word Follows Another Word to Generate Lyrics"
   ]
  },
  {
   "cell_type": "code",
   "execution_count": 325,
   "metadata": {},
   "outputs": [],
   "source": [
    "def most_frequent(List):\n",
    "    occurence_count = Counter(List)\n",
    "    return occurence_count.most_common(6)"
   ]
  },
  {
   "cell_type": "code",
   "execution_count": 326,
   "metadata": {},
   "outputs": [],
   "source": [
    "dirty = ['fuck','ass','shit','bitch','cunt','nigga','nigger','asshole','penis','bitches']"
   ]
  },
  {
   "cell_type": "code",
   "execution_count": 339,
   "metadata": {},
   "outputs": [],
   "source": [
    "def create_lyrics(start_word, length):\n",
    "    \n",
    "    new_word = start_word\n",
    "    lyrics = start_word + ' '\n",
    "    \n",
    "    for i in range(length):\n",
    "        \n",
    "        following_words = []\n",
    "        \n",
    "        for i in range(len(lyrics_list)):\n",
    "            if (lyrics_list[i] == new_word) and (i != len(lyrics_list) -1):\n",
    "                following_words.append(lyrics_list[i+1])\n",
    "    \n",
    "        if len(set(following_words)) > 10:\n",
    "            fol = most_frequent(following_words)[randrange(5)][0]\n",
    "            if fol in dirty:\n",
    "                fol = most_frequent(following_words)[randrange(5)][0]\n",
    "            if fol in dirty:\n",
    "                fol = most_frequent(following_words)[randrange(5)][0]\n",
    " \n",
    "            lyrics += fol + \" \"\n",
    "            new_word = fol\n",
    "            \n",
    "        else:\n",
    "            if most_frequent(following_words)[0][0] in dirty:\n",
    "                lyrics += '***censored***' + \" \"\n",
    "                new_word = most_frequent(following_words)[0][0]\n",
    "            else:\n",
    "                lyrics += str(most_frequent(following_words)[0][0]) + \" \"\n",
    "                new_word = most_frequent(following_words)[0][0]\n",
    "            \n",
    "        \n",
    "    return(lyrics)"
   ]
  },
  {
   "cell_type": "code",
   "execution_count": 344,
   "metadata": {},
   "outputs": [
    {
     "data": {
      "text/plain": [
       "'people say you dont want to you can be the one of the world we got it aint gotta keep it '"
      ]
     },
     "execution_count": 344,
     "metadata": {},
     "output_type": "execute_result"
    }
   ],
   "source": [
    "create_lyrics('people', 20)"
   ]
  },
  {
   "cell_type": "code",
   "execution_count": 345,
   "metadata": {},
   "outputs": [
    {
     "data": {
      "text/plain": [
       "'wow and i just wanna know how we gon get to you can get you want a bad yeah [chorus] and '"
      ]
     },
     "execution_count": 345,
     "metadata": {},
     "output_type": "execute_result"
    }
   ],
   "source": [
    "create_lyrics('wow', 20)"
   ]
  },
  {
   "cell_type": "code",
   "execution_count": 346,
   "metadata": {},
   "outputs": [
    {
     "data": {
      "text/plain": [
       "'tonight im just wanna be the same way that you know '"
      ]
     },
     "execution_count": 346,
     "metadata": {},
     "output_type": "execute_result"
    }
   ],
   "source": [
    "create_lyrics('tonight', 10)"
   ]
  },
  {
   "cell_type": "code",
   "execution_count": 348,
   "metadata": {},
   "outputs": [
    {
     "data": {
      "text/plain": [
       "'bad for the world i cant be there is the way you dont know you can see it i know that '"
      ]
     },
     "execution_count": 348,
     "metadata": {},
     "output_type": "execute_result"
    }
   ],
   "source": [
    "create_lyrics('bad', 20)"
   ]
  },
  {
   "cell_type": "code",
   "execution_count": null,
   "metadata": {},
   "outputs": [],
   "source": []
  },
  {
   "cell_type": "code",
   "execution_count": null,
   "metadata": {},
   "outputs": [],
   "source": []
  }
 ],
 "metadata": {
  "kernelspec": {
   "display_name": "Python 3",
   "language": "python",
   "name": "python3"
  },
  "language_info": {
   "codemirror_mode": {
    "name": "ipython",
    "version": 3
   },
   "file_extension": ".py",
   "mimetype": "text/x-python",
   "name": "python",
   "nbconvert_exporter": "python",
   "pygments_lexer": "ipython3",
   "version": "3.7.6"
  }
 },
 "nbformat": 4,
 "nbformat_minor": 4
}
