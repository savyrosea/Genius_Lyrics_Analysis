{
 "cells": [
  {
   "cell_type": "code",
   "execution_count": 1,
   "metadata": {},
   "outputs": [],
   "source": [
    "import warnings\n",
    "warnings.filterwarnings('ignore')\n",
    "import pandas as pd\n",
    "pd.set_option('display.max_rows', 500)\n",
    "pd.set_option('display.max_columns', 500)\n",
    "import matplotlib.pyplot as plt\n",
    "%matplotlib inline\n",
    "import matplotlib"
   ]
  },
  {
   "cell_type": "code",
   "execution_count": 2,
   "metadata": {},
   "outputs": [],
   "source": [
    "songs = pd.read_csv('../data/songs_after_round_2_cleaning.csv')"
   ]
  },
  {
   "cell_type": "code",
   "execution_count": 3,
   "metadata": {},
   "outputs": [
    {
     "data": {
      "text/html": [
       "<div>\n",
       "<style scoped>\n",
       "    .dataframe tbody tr th:only-of-type {\n",
       "        vertical-align: middle;\n",
       "    }\n",
       "\n",
       "    .dataframe tbody tr th {\n",
       "        vertical-align: top;\n",
       "    }\n",
       "\n",
       "    .dataframe thead th {\n",
       "        text-align: right;\n",
       "    }\n",
       "</style>\n",
       "<table border=\"1\" class=\"dataframe\">\n",
       "  <thead>\n",
       "    <tr style=\"text-align: right;\">\n",
       "      <th></th>\n",
       "      <th>song_name</th>\n",
       "      <th>artist</th>\n",
       "      <th>lyrics</th>\n",
       "      <th>descriptionsong</th>\n",
       "      <th>accepted_annotations</th>\n",
       "      <th>contributors</th>\n",
       "      <th>pageviews</th>\n",
       "      <th>descriptionartist</th>\n",
       "      <th>images_url</th>\n",
       "      <th>followers_count</th>\n",
       "      <th>gender</th>\n",
       "      <th>birth_year</th>\n",
       "      <th>birth_decade</th>\n",
       "      <th>birth_5_yr</th>\n",
       "      <th>cleaned_lyrics</th>\n",
       "    </tr>\n",
       "  </thead>\n",
       "  <tbody>\n",
       "    <tr>\n",
       "      <th>0</th>\n",
       "      <td>​​rockstar</td>\n",
       "      <td>Post Malone</td>\n",
       "      <td>[Intro: Post Malone] Hahahahaha Tank God Ayy, ...</td>\n",
       "      <td>On “rockstar,” Post Malone compares his habits...</td>\n",
       "      <td>18.0</td>\n",
       "      <td>440.0</td>\n",
       "      <td>6884752.0</td>\n",
       "      <td>Austin Richard Post (born July 4, 1995), bette...</td>\n",
       "      <td>https://images.genius.com/1010194fa644be099aa2...</td>\n",
       "      <td>4616.0</td>\n",
       "      <td>Male</td>\n",
       "      <td>1995.0</td>\n",
       "      <td>1990s</td>\n",
       "      <td>1995-1999</td>\n",
       "      <td>[intro: post malone] hahahahaha tank god ayy a...</td>\n",
       "    </tr>\n",
       "    <tr>\n",
       "      <th>1</th>\n",
       "      <td>White Iverson</td>\n",
       "      <td>Post Malone</td>\n",
       "      <td>[Intro] Double OT I'm a new three [Chorus] Sau...</td>\n",
       "      <td>Virtually unknown before this track, Post Malo...</td>\n",
       "      <td>31.0</td>\n",
       "      <td>222.0</td>\n",
       "      <td>4145011.0</td>\n",
       "      <td>Austin Richard Post (born July 4, 1995), bette...</td>\n",
       "      <td>https://images.genius.com/1010194fa644be099aa2...</td>\n",
       "      <td>4616.0</td>\n",
       "      <td>Male</td>\n",
       "      <td>1995.0</td>\n",
       "      <td>1990s</td>\n",
       "      <td>1995-1999</td>\n",
       "      <td>[intro] double ot im a new three [chorus] sauc...</td>\n",
       "    </tr>\n",
       "    <tr>\n",
       "      <th>2</th>\n",
       "      <td>Congratulations</td>\n",
       "      <td>Post Malone</td>\n",
       "      <td>[Intro: Post Malone] Mm-mmm Yeah, yeah Mm-mmm ...</td>\n",
       "      <td>On “Congratulations,“ Post Malone and Quavo ce...</td>\n",
       "      <td>13.0</td>\n",
       "      <td>222.0</td>\n",
       "      <td>3634846.0</td>\n",
       "      <td>Austin Richard Post (born July 4, 1995), bette...</td>\n",
       "      <td>https://images.genius.com/1010194fa644be099aa2...</td>\n",
       "      <td>4616.0</td>\n",
       "      <td>Male</td>\n",
       "      <td>1995.0</td>\n",
       "      <td>1990s</td>\n",
       "      <td>1995-1999</td>\n",
       "      <td>[intro: post malone] mm_mmm mm_mmm yeah (hey) ...</td>\n",
       "    </tr>\n",
       "    <tr>\n",
       "      <th>3</th>\n",
       "      <td>Psycho</td>\n",
       "      <td>Post Malone</td>\n",
       "      <td>[Chorus: Post Malone] Damn, my AP goin' psycho...</td>\n",
       "      <td>“Psycho” is the third single from Post Malone’...</td>\n",
       "      <td>21.0</td>\n",
       "      <td>230.0</td>\n",
       "      <td>3082328.0</td>\n",
       "      <td>Austin Richard Post (born July 4, 1995), bette...</td>\n",
       "      <td>https://images.genius.com/1010194fa644be099aa2...</td>\n",
       "      <td>4616.0</td>\n",
       "      <td>Male</td>\n",
       "      <td>1995.0</td>\n",
       "      <td>1990s</td>\n",
       "      <td>1995-1999</td>\n",
       "      <td>[chorus: post malone] damn my ap going psycho ...</td>\n",
       "    </tr>\n",
       "    <tr>\n",
       "      <th>4</th>\n",
       "      <td>I Fall Apart</td>\n",
       "      <td>Post Malone</td>\n",
       "      <td>[Intro] Ooh, I fall apart Ooh, yeah, mmm, yeah...</td>\n",
       "      <td>On “I Fall Apart,” Post reminisces about a hea...</td>\n",
       "      <td>7.0</td>\n",
       "      <td>126.0</td>\n",
       "      <td>2640796.0</td>\n",
       "      <td>Austin Richard Post (born July 4, 1995), bette...</td>\n",
       "      <td>https://images.genius.com/1010194fa644be099aa2...</td>\n",
       "      <td>4616.0</td>\n",
       "      <td>Male</td>\n",
       "      <td>1995.0</td>\n",
       "      <td>1990s</td>\n",
       "      <td>1995-1999</td>\n",
       "      <td>[intro] ooh i fall apart ooh yeah mmm yeah  [v...</td>\n",
       "    </tr>\n",
       "  </tbody>\n",
       "</table>\n",
       "</div>"
      ],
      "text/plain": [
       "         song_name       artist  \\\n",
       "0       ​​rockstar  Post Malone   \n",
       "1    White Iverson  Post Malone   \n",
       "2  Congratulations  Post Malone   \n",
       "3           Psycho  Post Malone   \n",
       "4     I Fall Apart  Post Malone   \n",
       "\n",
       "                                              lyrics  \\\n",
       "0  [Intro: Post Malone] Hahahahaha Tank God Ayy, ...   \n",
       "1  [Intro] Double OT I'm a new three [Chorus] Sau...   \n",
       "2  [Intro: Post Malone] Mm-mmm Yeah, yeah Mm-mmm ...   \n",
       "3  [Chorus: Post Malone] Damn, my AP goin' psycho...   \n",
       "4  [Intro] Ooh, I fall apart Ooh, yeah, mmm, yeah...   \n",
       "\n",
       "                                     descriptionsong  accepted_annotations  \\\n",
       "0  On “rockstar,” Post Malone compares his habits...                  18.0   \n",
       "1  Virtually unknown before this track, Post Malo...                  31.0   \n",
       "2  On “Congratulations,“ Post Malone and Quavo ce...                  13.0   \n",
       "3  “Psycho” is the third single from Post Malone’...                  21.0   \n",
       "4  On “I Fall Apart,” Post reminisces about a hea...                   7.0   \n",
       "\n",
       "   contributors  pageviews                                  descriptionartist  \\\n",
       "0         440.0  6884752.0  Austin Richard Post (born July 4, 1995), bette...   \n",
       "1         222.0  4145011.0  Austin Richard Post (born July 4, 1995), bette...   \n",
       "2         222.0  3634846.0  Austin Richard Post (born July 4, 1995), bette...   \n",
       "3         230.0  3082328.0  Austin Richard Post (born July 4, 1995), bette...   \n",
       "4         126.0  2640796.0  Austin Richard Post (born July 4, 1995), bette...   \n",
       "\n",
       "                                          images_url  followers_count gender  \\\n",
       "0  https://images.genius.com/1010194fa644be099aa2...           4616.0   Male   \n",
       "1  https://images.genius.com/1010194fa644be099aa2...           4616.0   Male   \n",
       "2  https://images.genius.com/1010194fa644be099aa2...           4616.0   Male   \n",
       "3  https://images.genius.com/1010194fa644be099aa2...           4616.0   Male   \n",
       "4  https://images.genius.com/1010194fa644be099aa2...           4616.0   Male   \n",
       "\n",
       "   birth_year birth_decade birth_5_yr  \\\n",
       "0      1995.0        1990s  1995-1999   \n",
       "1      1995.0        1990s  1995-1999   \n",
       "2      1995.0        1990s  1995-1999   \n",
       "3      1995.0        1990s  1995-1999   \n",
       "4      1995.0        1990s  1995-1999   \n",
       "\n",
       "                                      cleaned_lyrics  \n",
       "0  [intro: post malone] hahahahaha tank god ayy a...  \n",
       "1  [intro] double ot im a new three [chorus] sauc...  \n",
       "2  [intro: post malone] mm_mmm mm_mmm yeah (hey) ...  \n",
       "3  [chorus: post malone] damn my ap going psycho ...  \n",
       "4  [intro] ooh i fall apart ooh yeah mmm yeah  [v...  "
      ]
     },
     "execution_count": 3,
     "metadata": {},
     "output_type": "execute_result"
    }
   ],
   "source": [
    "songs.head()"
   ]
  },
  {
   "cell_type": "markdown",
   "metadata": {},
   "source": [
    "# Probablistic N-grams"
   ]
  },
  {
   "cell_type": "code",
   "execution_count": null,
   "metadata": {},
   "outputs": [],
   "source": []
  },
  {
   "cell_type": "markdown",
   "metadata": {},
   "source": [
    "# GPT-2"
   ]
  },
  {
   "cell_type": "markdown",
   "metadata": {},
   "source": [
    "working from hugging face documentation https://huggingface.co/transformers/model_doc/gpt2.html"
   ]
  },
  {
   "cell_type": "code",
   "execution_count": 7,
   "metadata": {},
   "outputs": [],
   "source": [
    "from transformers import GPT2Model, GPT2Config\n",
    "from transformers import GPT2Tokenizer\n",
    "import torch"
   ]
  },
  {
   "cell_type": "code",
   "execution_count": 5,
   "metadata": {},
   "outputs": [],
   "source": [
    "# Initializing a GPT2 configuration\n",
    "configuration = GPT2Config()\n",
    "\n",
    "# Initializing a model from the configuration\n",
    "model = GPT2Model(configuration)\n",
    "\n",
    "# Accessing the model configuration\n",
    "configuration = model.config"
   ]
  },
  {
   "cell_type": "code",
   "execution_count": 6,
   "metadata": {},
   "outputs": [
    {
     "data": {
      "application/vnd.jupyter.widget-view+json": {
       "model_id": "1c02e2c622504c88922ce546fb49928e",
       "version_major": 2,
       "version_minor": 0
      },
      "text/plain": [
       "HBox(children=(FloatProgress(value=0.0, description='Downloading', max=1042301.0, style=ProgressStyle(descript…"
      ]
     },
     "metadata": {},
     "output_type": "display_data"
    },
    {
     "name": "stdout",
     "output_type": "stream",
     "text": [
      "\n"
     ]
    },
    {
     "data": {
      "application/vnd.jupyter.widget-view+json": {
       "model_id": "fc3a464399a94254a4c424ed2ff29870",
       "version_major": 2,
       "version_minor": 0
      },
      "text/plain": [
       "HBox(children=(FloatProgress(value=0.0, description='Downloading', max=456318.0, style=ProgressStyle(descripti…"
      ]
     },
     "metadata": {},
     "output_type": "display_data"
    },
    {
     "name": "stdout",
     "output_type": "stream",
     "text": [
      "\n"
     ]
    },
    {
     "data": {
      "application/vnd.jupyter.widget-view+json": {
       "model_id": "1284212f7b0440618ae548bdc48cf536",
       "version_major": 2,
       "version_minor": 0
      },
      "text/plain": [
       "HBox(children=(FloatProgress(value=0.0, description='Downloading', max=1355256.0, style=ProgressStyle(descript…"
      ]
     },
     "metadata": {},
     "output_type": "display_data"
    },
    {
     "name": "stdout",
     "output_type": "stream",
     "text": [
      "\n"
     ]
    },
    {
     "data": {
      "text/plain": [
       "[15496, 995]"
      ]
     },
     "execution_count": 6,
     "metadata": {},
     "output_type": "execute_result"
    }
   ],
   "source": [
    "tokenizer = GPT2Tokenizer.from_pretrained(\"gpt2\")\n",
    "tokenizer(\"Hello world\")['input_ids']"
   ]
  },
  {
   "cell_type": "code",
   "execution_count": null,
   "metadata": {},
   "outputs": [],
   "source": []
  },
  {
   "cell_type": "code",
   "execution_count": null,
   "metadata": {},
   "outputs": [],
   "source": []
  }
 ],
 "metadata": {
  "kernelspec": {
   "display_name": "Python 3",
   "language": "python",
   "name": "python3"
  },
  "language_info": {
   "codemirror_mode": {
    "name": "ipython",
    "version": 3
   },
   "file_extension": ".py",
   "mimetype": "text/x-python",
   "name": "python",
   "nbconvert_exporter": "python",
   "pygments_lexer": "ipython3",
   "version": "3.7.6"
  }
 },
 "nbformat": 4,
 "nbformat_minor": 4
}
